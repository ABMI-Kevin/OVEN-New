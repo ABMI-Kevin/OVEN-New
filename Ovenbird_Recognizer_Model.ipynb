{
  "cells": [
    {
      "cell_type": "markdown",
      "metadata": {
        "id": "O9jjNpqTQ-SQ"
      },
      "source": [
        "\"\"\"\n",
        "The MIT License (MIT)\n",
        "\n",
        "Copyright (c) 2017 Chris Scott\n",
        "\n",
        "Permission is hereby granted, free of charge, to any person obtaining a copy\n",
        "of this software and associated documentation files (the \"Software\"), to deal\n",
        "in the Software without restriction, including without limitation the rights\n",
        "to use, copy, modify, merge, publish, distribute, sublicense, and/or sell\n",
        "copies of the Software, and to permit persons to whom the Software is\n",
        "furnished to do so, subject to the following conditions:\n",
        "\n",
        "The above copyright notice and this permission notice shall be included in all\n",
        "copies or substantial portions of the Software.\n",
        "\n",
        "THE SOFTWARE IS PROVIDED \"AS IS\", WITHOUT WARRANTY OF ANY KIND,\n",
        "EXPRESS OR IMPLIED, INCLUDING BUT NOT LIMITED TO THE WARRANTIES OF\n",
        "MERCHANTABILITY, FITNESS FOR A PARTICULAR PURPOSE AND NONINFRINGEMENT.\n",
        "IN NO EVENT SHALL THE AUTHORS OR COPYRIGHT HOLDERS BE LIABLE FOR ANY CLAIM,\n",
        "DAMAGES OR OTHER LIABILITY, WHETHER IN AN ACTION OF CONTRACT, TORT OR\n",
        "OTHERWISE, ARISING FROM, OUT OF OR IN CONNECTION WITH THE SOFTWARE OR THE USE\n",
        "OR OTHER DEALINGS IN THE SOFTWARE.\n",
        "\"\"\""
      ]
    },
    {
      "cell_type": "markdown",
      "metadata": {},
      "source": [
        "<a target=\"_blank\" href=\"https://colab.research.google.com/github/ABMI-Kevin/OVEN-New/blob/main/Rec_22022017_upgrade_Colab.ipynb\">\n",
        "  <img src=\"https://colab.research.google.com/assets/colab-badge.svg\" alt=\"Open In Colab\"/>\n",
        "</a>"
      ]
    },
    {
      "cell_type": "markdown",
      "metadata": {
        "id": "FYPM3FXLQ-SS"
      },
      "source": [
        "## Import Packages\n",
        "\n",
        "Import packages to run the model.  Updates to packages since the model was originally created may result in warnings when running the model.  As of March 2024 the most up to date versions of the packages below allowed the model to be run successfully on audio data despite any warnings that python may generate during the output."
      ]
    },
    {
      "cell_type": "code",
      "execution_count": 2,
      "metadata": {
        "id": "yOGGV2t-njfT"
      },
      "outputs": [],
      "source": [
        "from datetime import timedelta\n",
        "import librosa\n",
        "import numpy as np\n",
        "import os\n",
        "import pandas as pd\n",
        "from scipy.signal import butter, filtfilt\n",
        "from scipy.special import expit\n",
        "import tensorflow as tf\n",
        "import time\n",
        "from tqdm import tqdm_notebook\n"
      ]
    },
    {
      "cell_type": "markdown",
      "metadata": {
        "id": "fcuC9HK9WDJb"
      },
      "source": [
        "## Google Colab Steps\n",
        "\n",
        "If running the notebook in Colab then you'll need to mount Google Drive and clone the repository to it in order to call the models and your recording files when processing.  Skip the next two steps if running on a local machine.\n",
        "\n",
        "### Mount Google Drive"
      ]
    },
    {
      "cell_type": "code",
      "execution_count": 2,
      "metadata": {
        "colab": {
          "base_uri": "https://localhost:8080/"
        },
        "id": "N0qVmeKSR3Qe",
        "outputId": "5bc05984-ddf6-4d63-f88a-45e77ad9156e"
      },
      "outputs": [
        {
          "name": "stdout",
          "output_type": "stream",
          "text": [
            "Mounted at /content/drive/\n"
          ]
        }
      ],
      "source": [
        "from google.colab import drive\n",
        "drive.mount('/content/drive/')"
      ]
    },
    {
      "cell_type": "markdown",
      "metadata": {},
      "source": [
        "### Clone the Github repository\n",
        "\n",
        "If running the notebook through Colab then clone the Github repository to your Google Drive in order to access the model files stored in the repository."
      ]
    },
    {
      "cell_type": "code",
      "execution_count": null,
      "metadata": {},
      "outputs": [],
      "source": [
        "!git clone https://github.com/ABMI-Kevin/OVEN-New.git"
      ]
    },
    {
      "cell_type": "markdown",
      "metadata": {
        "id": "MBYa_Nz_-CjH"
      },
      "source": [
        "## Change your working directory\n",
        "Change your working directory to the folder containing the notebook and the model files.\n",
        "\n",
        "If running locally then this will be the cloned repository or the folder where you downloaded the files if you didn't clone them with git.\n",
        "\n",
        "If running in Colab then the location should be the location that the above step cloned into.\n",
        "\n",
        "This cell will print the working directory so you can double check that it is pointing to the right directory."
      ]
    },
    {
      "cell_type": "code",
      "execution_count": null,
      "metadata": {},
      "outputs": [],
      "source": [
        "# Change the working directory using the %cd command\n",
        "%cd OVEN-New"
      ]
    },
    {
      "cell_type": "markdown",
      "metadata": {
        "id": "G-bIErG0Q-SS"
      },
      "source": [
        "## Designate Recording Folder\n",
        "\n",
        "Enter the full filepath of the folder where the recording files to be processed are stored. The filepath will need to be changed to wherever you have stored the files on your machine or on Google Drive, depending on your processing choice.\n",
        "\n",
        "Example filepath for Google Drive folder: \"/content/drive/MyDrive/Ovenbird_recordings/'\n",
        "\n",
        "Example filepath for local files: \"C:/Users/User/Documents/Ovenbird_recordings/\""
      ]
    },
    {
      "cell_type": "code",
      "execution_count": 28,
      "metadata": {
        "id": "f6_rvNfInw6d"
      },
      "outputs": [],
      "source": [
        "# Path to folder containing recordings for processing\n",
        "RECORDINGS = '/content/drive/MyDrive/OVEN-test/Recordings_OVEN-test/'"
      ]
    },
    {
      "cell_type": "markdown",
      "metadata": {
        "id": "C2nVb9y79rUd"
      },
      "source": [
        "### List the recording files\n",
        "If you want to check that you have correctly designated the folderpath of your target recordings and that the folder contains the recording files then you can run the following cell to list all the contents of your RECORDINGS folder."
      ]
    },
    {
      "cell_type": "code",
      "execution_count": 29,
      "metadata": {
        "colab": {
          "base_uri": "https://localhost:8080/"
        },
        "id": "9pvkXqyNW8_S",
        "outputId": "c7878498-ffc0-47f9-86a5-211431d4d371"
      },
      "outputs": [
        {
          "data": {
            "text/plain": [
              "['Sound P14-B01-1012_5m_OVEN90dB.wav',\n",
              " 'Sound P14-B01-1112_5m_OVEN90dB.wav',\n",
              " 'Sound P14-B01-112_5m_OVEN90dB.wav',\n",
              " 'Sound P14-B01-12_5m_OVEN90dB.wav',\n",
              " 'Sound P14-B01-137_5m_OVEN90dB.wav',\n",
              " 'Sound P14-B01-162_5m_OVEN90dB.wav',\n",
              " 'Sound P14-B01-187_5m_OVEN90dB.wav',\n",
              " 'Sound P14-B01-212_5m_OVEN90dB.wav',\n",
              " 'Sound P14-B01-237_5m_OVEN90dB.wav',\n",
              " 'Sound P14-B01-262_5m_OVEN90dB.wav',\n",
              " 'Sound P14-B01-287_5m_OVEN90dB.wav',\n",
              " 'Sound P14-B01-312_5m_OVEN90dB.wav',\n",
              " 'Sound P14-B01-337_5m_OVEN90dB.wav',\n",
              " 'Sound P14-B01-362_5m_OVEN90dB.wav',\n",
              " 'Sound P14-B01-37_5m_OVEN90dB.wav',\n",
              " 'Sound P14-B01-387_5m_OVEN90dB.wav',\n",
              " 'Sound P14-B01-412_5m_OVEN90dB.wav',\n",
              " 'Sound P14-B01-462_5m_OVEN90dB.wav',\n",
              " 'Sound P14-B01-512_5m_OVEN90dB.wav',\n",
              " 'Sound P14-B01-562_5m_OVEN90dB.wav',\n",
              " 'Sound P14-B01-612_5m_OVEN90dB.wav',\n",
              " 'Sound P14-B01-62_5m_OVEN90dB.wav',\n",
              " 'Sound P14-B01-662_5m_OVEN90dB.wav',\n",
              " 'Sound P14-B01-712_5m_OVEN90dB.wav',\n",
              " 'Sound P14-B01-762_5m_OVEN90dB.wav',\n",
              " 'Sound P14-B01-812_5m_OVEN90dB.wav',\n",
              " 'Sound P14-B01-87_5m_OVEN90dB.wav',\n",
              " 'Sound P14-B01-912_5m_OVEN90dB.wav',\n",
              " 'Sound P14-B02-1012_5m_OVEN90dB.wav',\n",
              " 'Sound P14-B02-112_5m_OVEN90dB.wav',\n",
              " 'Sound P14-B02-12_5m_OVEN90dB.wav',\n",
              " 'Sound P14-B02-137_5m_OVEN90dB.wav',\n",
              " 'Sound P14-B02-162_5m_OVEN90dB.wav',\n",
              " 'Sound P14-B02-187_5m_OVEN90dB.wav',\n",
              " 'Sound P14-B02-212_5m_OVEN90dB.wav',\n",
              " 'Sound P14-B02-237_5m_OVEN90dB.wav',\n",
              " 'Sound P14-B02-262_5m_OVEN90dB.wav',\n",
              " 'Sound P14-B02-287_5m_OVEN90dB.wav',\n",
              " 'Sound P14-B02-312_5m_OVEN90dB.wav',\n",
              " 'Sound P14-B02-337_5m_OVEN90dB.wav',\n",
              " 'Sound P14-B02-362_5m_OVEN90dB.wav',\n",
              " 'Sound P14-B02-37_5m_OVEN90dB.wav',\n",
              " 'Sound P14-B02-387_5m_OVEN90dB.wav',\n",
              " 'Sound P14-B02-412_5m_OVEN90dB.wav',\n",
              " 'Sound P14-B02-462_5m_OVEN90dB.wav',\n",
              " 'Sound P14-B02-512_5m_OVEN90dB.wav',\n",
              " 'Sound P14-B02-562_5m_OVEN90dB.wav',\n",
              " 'Sound P14-B02-612_5m_OVEN90dB.wav',\n",
              " 'Sound P14-B02-62_5m_OVEN90dB.wav',\n",
              " 'Sound P14-B02-662_5m_OVEN90dB.wav',\n",
              " 'Sound P14-B02-712_5m_OVEN90dB.wav',\n",
              " 'Sound P14-B02-762_5m_OVEN90dB.wav',\n",
              " 'Sound P14-B02-812_5m_OVEN90dB.wav',\n",
              " 'Sound P14-B02-87_5m_OVEN90dB.wav',\n",
              " 'Sound P14-B02-912_5m_OVEN90dB.wav',\n",
              " 'Sound P14-B03-1012_5m_OVEN90dB.wav',\n",
              " 'Sound P14-B03-1112_5m_OVEN90dB.wav',\n",
              " 'Sound P14-B03-112_5m_OVEN90dB.wav',\n",
              " 'Sound P14-B03-12_5m_OVEN90dB.wav',\n",
              " 'Sound P14-B03-137_5m_OVEN90dB.wav',\n",
              " 'Sound P14-B03-162_5m_OVEN90dB.wav',\n",
              " 'Sound P14-B03-187_5m_OVEN90dB.wav',\n",
              " 'Sound P14-B03-212_5m_OVEN90dB.wav',\n",
              " 'Sound P14-B03-237_5m_OVEN90dB.wav',\n",
              " 'Sound P14-B03-262_5m_OVEN90dB.wav',\n",
              " 'Sound P14-B03-287_5m_OVEN90dB.wav',\n",
              " 'Sound P14-B03-312_5m_OVEN90dB.wav',\n",
              " 'Sound P14-B03-337_5m_OVEN90dB.wav',\n",
              " 'Sound P14-B03-362_5m_OVEN90dB.wav',\n",
              " 'Sound P14-B03-37_5m_OVEN90dB.wav',\n",
              " 'Sound P14-B03-387_5m_OVEN90dB.wav',\n",
              " 'Sound P14-B03-412_5m_OVEN90dB.wav',\n",
              " 'Sound P14-B03-462_5m_OVEN90dB.wav',\n",
              " 'Sound P14-B03-512_5m_OVEN90dB.wav',\n",
              " 'Sound P14-B03-562_5m_OVEN90dB.wav',\n",
              " 'Sound P14-B03-612_5m_OVEN90dB.wav',\n",
              " 'Sound P14-B03-62_5m_OVEN90dB.wav',\n",
              " 'Sound P14-B03-662_5m_OVEN90dB.wav',\n",
              " 'Sound P14-B03-712_5m_OVEN90dB.wav',\n",
              " 'Sound P14-B03-762_5m_OVEN90dB.wav',\n",
              " 'Sound P14-B03-812_5m_OVEN90dB.wav',\n",
              " 'Sound P14-B03-87_5m_OVEN90dB.wav',\n",
              " 'Sound P14-B03-912_5m_OVEN90dB.wav',\n",
              " 'results-amplitude',\n",
              " 'results-power',\n",
              " 'results']"
            ]
          },
          "execution_count": 29,
          "metadata": {},
          "output_type": "execute_result"
        }
      ],
      "source": [
        "os.listdir(RECORDINGS)"
      ]
    },
    {
      "cell_type": "markdown",
      "metadata": {
        "id": "gOoIfuInQ-ST"
      },
      "source": [
        "# Run the Ovenbird recognizer on your recordings\n",
        "\n",
        "The following script will run the recordings files in your \"RECORDINGS\" folder through the Ovenbird recognizer and export the results for each recording file.  "
      ]
    },
    {
      "cell_type": "code",
      "execution_count": 27,
      "metadata": {
        "colab": {
          "base_uri": "https://localhost:8080/",
          "height": 174,
          "referenced_widgets": [
            "1e94d9343772454da127fef1c584d809",
            "1ef3d5eb35714672840d18a902a3fb3b",
            "d39e5243905044fa90eb140456cdde29",
            "2791a683d0e749b6bd01bd510ccf904b",
            "a1567f212f1f4f608ef3747a672d5a87",
            "0f4cb6072bd346b29db08cd1714da84a",
            "cdf750f2764b46b7b827107da2b3f3fd",
            "7745e66314354301befea46331e7fb46",
            "52a85adf26df45988ab3cc0aab1bf60f",
            "478b7424a4564b0aac0b1ed02e24290b",
            "85c9732a6d494d2393df595290d70618"
          ]
        },
        "id": "yLD_qIHy3Xfx",
        "outputId": "d26744be-c5fe-4824-f953-a45ec9d4aaba"
      },
      "outputs": [
        {
          "name": "stderr",
          "output_type": "stream",
          "text": [
            "WARNING:tensorflow:The saved meta_graph is possibly from an older release:\n",
            "'local_variables' collection should be of type 'byte_list', but instead is of type 'node_list'.\n",
            "WARNING:tensorflow:The saved meta_graph is possibly from an older release:\n",
            "'model_variables' collection should be of type 'byte_list', but instead is of type 'node_list'.\n",
            "<ipython-input-27-9db798116567>:45: TqdmDeprecationWarning: This function will be removed in tqdm==5.0.0\n",
            "Please use `tqdm.notebook.tqdm` instead of `tqdm.tqdm_notebook`\n",
            "  for filename in tqdm_notebook(audio_files):\n"
          ]
        },
        {
          "data": {
            "application/vnd.jupyter.widget-view+json": {
              "model_id": "1e94d9343772454da127fef1c584d809",
              "version_major": 2,
              "version_minor": 0
            },
            "text/plain": [
              "  0%|          | 0/83 [00:00<?, ?it/s]"
            ]
          },
          "metadata": {},
          "output_type": "display_data"
        }
      ],
      "source": [
        "def highpass_filter(y, fc, sr):\n",
        "    nyq = 0.5 * sr\n",
        "    b, a = butter(4, fc/nyq, 'high')\n",
        "    return filtfilt(b, a, y)\n",
        "\n",
        "def normalise_audio(y, sr=16000):\n",
        "    y = highpass_filter(y=y, fc=500.0, sr=sr)\n",
        "    y -= np.mean(y)\n",
        "    return y\n",
        "\n",
        "def spectrogram_from_audio(y, sr):\n",
        "    sr = 16000\n",
        "    n_fft = 128\n",
        "    hop_length = 64\n",
        "    D = librosa.stft(y, n_fft=n_fft, hop_length=hop_length, window=np.blackman)[10:,:] # remove DC\n",
        "    D = librosa.power_to_db(np.abs(D)**2, ref=1.0)\n",
        "    D = np.swapaxes(D,0,1)[np.newaxis,np.newaxis,:,:] # [batch,height,width,channels]\n",
        "    return D\n",
        "\n",
        "def process_directory(recordings):\n",
        "    # make sure there is somewhere to save results\n",
        "    results_location = os.path.join(recordings, 'results')\n",
        "    if not os.path.exists(results_location):\n",
        "        os.makedirs(results_location)\n",
        "\n",
        "    # find tensorflow model files\n",
        "    meta_graph_path = 'oven-model-22022017.meta'\n",
        "    checkpoint_path = 'oven-model-22022017'\n",
        "\n",
        "    # list all audio files in directory\n",
        "    audio_files = librosa.util.find_files(recordings, ext=['flac', 'wav'], recurse=True, case_sensitive=False, limit=None, offset=0)\n",
        "    audio_files = list(set(audio_files)) # remove duplicates - not sure why find_files produces them!\n",
        "\n",
        "    tf.compat.v1.reset_default_graph()\n",
        "    with tf.compat.v1.Session() as sess:\n",
        "        new_saver = tf.compat.v1.train.import_meta_graph(meta_graph_path)\n",
        "        new_saver.restore(sess, checkpoint_path)\n",
        "        features = tf.compat.v1.get_collection('input')[0]\n",
        "        is_training = tf.compat.v1.get_collection('is_training')[0]\n",
        "        level = tf.compat.v1.get_collection('level')[0]\n",
        "        detection_fn = tf.compat.v1.get_collection('detection_fn')[0]\n",
        "\n",
        "        for filename in tqdm_notebook(audio_files):\n",
        "            y, sr = librosa.load(filename, sr=16000, mono=True)\n",
        "            y = normalise_audio(y)\n",
        "            S = spectrogram_from_audio(y, sr)\n",
        "            level_dB, detection_function = sess.run([level, detection_fn], feed_dict={features: S, is_training: False})\n",
        "            level_dB = level_dB[0,0,:,0]\n",
        "            detection_function = detection_function[0,0,:,0]\n",
        "            detection_function = expit(detection_function)\n",
        "            duration_secs = y.size / float(sr)\n",
        "            times = np.interp(np.arange(detection_function.size), [0,detection_function.size-1], [0,duration_secs])\n",
        "            df = pd.DataFrame({'detection_window_start_time': times, 'detector_score': detection_function, 'relative_sound_level': level_dB})\n",
        "\n",
        "            base = os.path.basename(filename)\n",
        "            filename = os.path.splitext(base)[0]\n",
        "            savename = os.path.join(results_location, filename + '_detection_function.csv')\n",
        "            df.to_csv(savename, header=True, index=False)\n",
        "\n",
        "process_directory(RECORDINGS)"
      ]
    },
    {
      "cell_type": "markdown",
      "metadata": {},
      "source": [
        "# Results\n",
        "\n",
        "Results files in csv format will be exported to a folder called \"results\" within the RECORDINGS folder.  The files will have the same name as the audio recordings files with \"_detection_function\" as a suffix.  Each line in the files will consist of the detection window start time, the recognizer score (between 0 and 1) for that detection window period, and the relative sound level for that detection window."
      ]
    }
  ],
  "metadata": {
    "colab": {
      "provenance": []
    },
    "kernelspec": {
      "display_name": "Python 3",
      "language": "python",
      "name": "python3"
    },
    "language_info": {
      "codemirror_mode": {
        "name": "ipython",
        "version": 3
      },
      "file_extension": ".py",
      "mimetype": "text/x-python",
      "name": "python",
      "nbconvert_exporter": "python",
      "pygments_lexer": "ipython3",
      "version": "3.11.7"
    },
    "widgets": {
      "application/vnd.jupyter.widget-state+json": {
        "0f4cb6072bd346b29db08cd1714da84a": {
          "model_module": "@jupyter-widgets/base",
          "model_module_version": "1.2.0",
          "model_name": "LayoutModel",
          "state": {
            "_model_module": "@jupyter-widgets/base",
            "_model_module_version": "1.2.0",
            "_model_name": "LayoutModel",
            "_view_count": null,
            "_view_module": "@jupyter-widgets/base",
            "_view_module_version": "1.2.0",
            "_view_name": "LayoutView",
            "align_content": null,
            "align_items": null,
            "align_self": null,
            "border": null,
            "bottom": null,
            "display": null,
            "flex": null,
            "flex_flow": null,
            "grid_area": null,
            "grid_auto_columns": null,
            "grid_auto_flow": null,
            "grid_auto_rows": null,
            "grid_column": null,
            "grid_gap": null,
            "grid_row": null,
            "grid_template_areas": null,
            "grid_template_columns": null,
            "grid_template_rows": null,
            "height": null,
            "justify_content": null,
            "justify_items": null,
            "left": null,
            "margin": null,
            "max_height": null,
            "max_width": null,
            "min_height": null,
            "min_width": null,
            "object_fit": null,
            "object_position": null,
            "order": null,
            "overflow": null,
            "overflow_x": null,
            "overflow_y": null,
            "padding": null,
            "right": null,
            "top": null,
            "visibility": null,
            "width": null
          }
        },
        "1e94d9343772454da127fef1c584d809": {
          "model_module": "@jupyter-widgets/controls",
          "model_module_version": "1.5.0",
          "model_name": "HBoxModel",
          "state": {
            "_dom_classes": [],
            "_model_module": "@jupyter-widgets/controls",
            "_model_module_version": "1.5.0",
            "_model_name": "HBoxModel",
            "_view_count": null,
            "_view_module": "@jupyter-widgets/controls",
            "_view_module_version": "1.5.0",
            "_view_name": "HBoxView",
            "box_style": "",
            "children": [
              "IPY_MODEL_1ef3d5eb35714672840d18a902a3fb3b",
              "IPY_MODEL_d39e5243905044fa90eb140456cdde29",
              "IPY_MODEL_2791a683d0e749b6bd01bd510ccf904b"
            ],
            "layout": "IPY_MODEL_a1567f212f1f4f608ef3747a672d5a87"
          }
        },
        "1ef3d5eb35714672840d18a902a3fb3b": {
          "model_module": "@jupyter-widgets/controls",
          "model_module_version": "1.5.0",
          "model_name": "HTMLModel",
          "state": {
            "_dom_classes": [],
            "_model_module": "@jupyter-widgets/controls",
            "_model_module_version": "1.5.0",
            "_model_name": "HTMLModel",
            "_view_count": null,
            "_view_module": "@jupyter-widgets/controls",
            "_view_module_version": "1.5.0",
            "_view_name": "HTMLView",
            "description": "",
            "description_tooltip": null,
            "layout": "IPY_MODEL_0f4cb6072bd346b29db08cd1714da84a",
            "placeholder": "​",
            "style": "IPY_MODEL_cdf750f2764b46b7b827107da2b3f3fd",
            "value": "100%"
          }
        },
        "2791a683d0e749b6bd01bd510ccf904b": {
          "model_module": "@jupyter-widgets/controls",
          "model_module_version": "1.5.0",
          "model_name": "HTMLModel",
          "state": {
            "_dom_classes": [],
            "_model_module": "@jupyter-widgets/controls",
            "_model_module_version": "1.5.0",
            "_model_name": "HTMLModel",
            "_view_count": null,
            "_view_module": "@jupyter-widgets/controls",
            "_view_module_version": "1.5.0",
            "_view_name": "HTMLView",
            "description": "",
            "description_tooltip": null,
            "layout": "IPY_MODEL_478b7424a4564b0aac0b1ed02e24290b",
            "placeholder": "​",
            "style": "IPY_MODEL_85c9732a6d494d2393df595290d70618",
            "value": " 83/83 [00:02&lt;00:00, 29.75it/s]"
          }
        },
        "478b7424a4564b0aac0b1ed02e24290b": {
          "model_module": "@jupyter-widgets/base",
          "model_module_version": "1.2.0",
          "model_name": "LayoutModel",
          "state": {
            "_model_module": "@jupyter-widgets/base",
            "_model_module_version": "1.2.0",
            "_model_name": "LayoutModel",
            "_view_count": null,
            "_view_module": "@jupyter-widgets/base",
            "_view_module_version": "1.2.0",
            "_view_name": "LayoutView",
            "align_content": null,
            "align_items": null,
            "align_self": null,
            "border": null,
            "bottom": null,
            "display": null,
            "flex": null,
            "flex_flow": null,
            "grid_area": null,
            "grid_auto_columns": null,
            "grid_auto_flow": null,
            "grid_auto_rows": null,
            "grid_column": null,
            "grid_gap": null,
            "grid_row": null,
            "grid_template_areas": null,
            "grid_template_columns": null,
            "grid_template_rows": null,
            "height": null,
            "justify_content": null,
            "justify_items": null,
            "left": null,
            "margin": null,
            "max_height": null,
            "max_width": null,
            "min_height": null,
            "min_width": null,
            "object_fit": null,
            "object_position": null,
            "order": null,
            "overflow": null,
            "overflow_x": null,
            "overflow_y": null,
            "padding": null,
            "right": null,
            "top": null,
            "visibility": null,
            "width": null
          }
        },
        "52a85adf26df45988ab3cc0aab1bf60f": {
          "model_module": "@jupyter-widgets/controls",
          "model_module_version": "1.5.0",
          "model_name": "ProgressStyleModel",
          "state": {
            "_model_module": "@jupyter-widgets/controls",
            "_model_module_version": "1.5.0",
            "_model_name": "ProgressStyleModel",
            "_view_count": null,
            "_view_module": "@jupyter-widgets/base",
            "_view_module_version": "1.2.0",
            "_view_name": "StyleView",
            "bar_color": null,
            "description_width": ""
          }
        },
        "7745e66314354301befea46331e7fb46": {
          "model_module": "@jupyter-widgets/base",
          "model_module_version": "1.2.0",
          "model_name": "LayoutModel",
          "state": {
            "_model_module": "@jupyter-widgets/base",
            "_model_module_version": "1.2.0",
            "_model_name": "LayoutModel",
            "_view_count": null,
            "_view_module": "@jupyter-widgets/base",
            "_view_module_version": "1.2.0",
            "_view_name": "LayoutView",
            "align_content": null,
            "align_items": null,
            "align_self": null,
            "border": null,
            "bottom": null,
            "display": null,
            "flex": null,
            "flex_flow": null,
            "grid_area": null,
            "grid_auto_columns": null,
            "grid_auto_flow": null,
            "grid_auto_rows": null,
            "grid_column": null,
            "grid_gap": null,
            "grid_row": null,
            "grid_template_areas": null,
            "grid_template_columns": null,
            "grid_template_rows": null,
            "height": null,
            "justify_content": null,
            "justify_items": null,
            "left": null,
            "margin": null,
            "max_height": null,
            "max_width": null,
            "min_height": null,
            "min_width": null,
            "object_fit": null,
            "object_position": null,
            "order": null,
            "overflow": null,
            "overflow_x": null,
            "overflow_y": null,
            "padding": null,
            "right": null,
            "top": null,
            "visibility": null,
            "width": null
          }
        },
        "85c9732a6d494d2393df595290d70618": {
          "model_module": "@jupyter-widgets/controls",
          "model_module_version": "1.5.0",
          "model_name": "DescriptionStyleModel",
          "state": {
            "_model_module": "@jupyter-widgets/controls",
            "_model_module_version": "1.5.0",
            "_model_name": "DescriptionStyleModel",
            "_view_count": null,
            "_view_module": "@jupyter-widgets/base",
            "_view_module_version": "1.2.0",
            "_view_name": "StyleView",
            "description_width": ""
          }
        },
        "a1567f212f1f4f608ef3747a672d5a87": {
          "model_module": "@jupyter-widgets/base",
          "model_module_version": "1.2.0",
          "model_name": "LayoutModel",
          "state": {
            "_model_module": "@jupyter-widgets/base",
            "_model_module_version": "1.2.0",
            "_model_name": "LayoutModel",
            "_view_count": null,
            "_view_module": "@jupyter-widgets/base",
            "_view_module_version": "1.2.0",
            "_view_name": "LayoutView",
            "align_content": null,
            "align_items": null,
            "align_self": null,
            "border": null,
            "bottom": null,
            "display": null,
            "flex": null,
            "flex_flow": null,
            "grid_area": null,
            "grid_auto_columns": null,
            "grid_auto_flow": null,
            "grid_auto_rows": null,
            "grid_column": null,
            "grid_gap": null,
            "grid_row": null,
            "grid_template_areas": null,
            "grid_template_columns": null,
            "grid_template_rows": null,
            "height": null,
            "justify_content": null,
            "justify_items": null,
            "left": null,
            "margin": null,
            "max_height": null,
            "max_width": null,
            "min_height": null,
            "min_width": null,
            "object_fit": null,
            "object_position": null,
            "order": null,
            "overflow": null,
            "overflow_x": null,
            "overflow_y": null,
            "padding": null,
            "right": null,
            "top": null,
            "visibility": null,
            "width": null
          }
        },
        "cdf750f2764b46b7b827107da2b3f3fd": {
          "model_module": "@jupyter-widgets/controls",
          "model_module_version": "1.5.0",
          "model_name": "DescriptionStyleModel",
          "state": {
            "_model_module": "@jupyter-widgets/controls",
            "_model_module_version": "1.5.0",
            "_model_name": "DescriptionStyleModel",
            "_view_count": null,
            "_view_module": "@jupyter-widgets/base",
            "_view_module_version": "1.2.0",
            "_view_name": "StyleView",
            "description_width": ""
          }
        },
        "d39e5243905044fa90eb140456cdde29": {
          "model_module": "@jupyter-widgets/controls",
          "model_module_version": "1.5.0",
          "model_name": "FloatProgressModel",
          "state": {
            "_dom_classes": [],
            "_model_module": "@jupyter-widgets/controls",
            "_model_module_version": "1.5.0",
            "_model_name": "FloatProgressModel",
            "_view_count": null,
            "_view_module": "@jupyter-widgets/controls",
            "_view_module_version": "1.5.0",
            "_view_name": "ProgressView",
            "bar_style": "success",
            "description": "",
            "description_tooltip": null,
            "layout": "IPY_MODEL_7745e66314354301befea46331e7fb46",
            "max": 83,
            "min": 0,
            "orientation": "horizontal",
            "style": "IPY_MODEL_52a85adf26df45988ab3cc0aab1bf60f",
            "value": 83
          }
        }
      }
    }
  },
  "nbformat": 4,
  "nbformat_minor": 0
}
