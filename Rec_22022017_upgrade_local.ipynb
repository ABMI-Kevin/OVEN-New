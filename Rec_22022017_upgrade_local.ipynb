{
  "cells": [
    {
      "cell_type": "markdown",
      "metadata": {},
      "source": [
        "\"\"\"\n",
        "The MIT License (MIT)\n",
        "\n",
        "Copyright (c) 2017 Chris Scott\n",
        "\n",
        "Permission is hereby granted, free of charge, to any person obtaining a copy\n",
        "of this software and associated documentation files (the \"Software\"), to deal\n",
        "in the Software without restriction, including without limitation the rights\n",
        "to use, copy, modify, merge, publish, distribute, sublicense, and/or sell\n",
        "copies of the Software, and to permit persons to whom the Software is\n",
        "furnished to do so, subject to the following conditions:\n",
        "\n",
        "The above copyright notice and this permission notice shall be included in all\n",
        "copies or substantial portions of the Software.\n",
        "\n",
        "THE SOFTWARE IS PROVIDED \"AS IS\", WITHOUT WARRANTY OF ANY KIND,\n",
        "EXPRESS OR IMPLIED, INCLUDING BUT NOT LIMITED TO THE WARRANTIES OF\n",
        "MERCHANTABILITY, FITNESS FOR A PARTICULAR PURPOSE AND NONINFRINGEMENT.\n",
        "IN NO EVENT SHALL THE AUTHORS OR COPYRIGHT HOLDERS BE LIABLE FOR ANY CLAIM,\n",
        "DAMAGES OR OTHER LIABILITY, WHETHER IN AN ACTION OF CONTRACT, TORT OR\n",
        "OTHERWISE, ARISING FROM, OUT OF OR IN CONNECTION WITH THE SOFTWARE OR THE USE\n",
        "OR OTHER DEALINGS IN THE SOFTWARE.\n",
        "\"\"\""
      ]
    },
    {
      "cell_type": "markdown",
      "metadata": {
        "colab_type": "text",
        "id": "view-in-github"
      },
      "source": [
        "<a href=\"https://colab.research.google.com/github/ABMI-Kevin/Recognizers_OVEN-test/blob/main/OVEN_22022017_upgrade.ipynb\" target=\"_parent\"><img src=\"https://colab.research.google.com/assets/colab-badge.svg\" alt=\"Open In Colab\"/></a>"
      ]
    },
    {
      "cell_type": "markdown",
      "metadata": {},
      "source": [
        "## Import Packages\n",
        "\n",
        "Import packages to run the model.  Updates to packages since the model was originally created may result in warnings when running the model.  As of March 2024 the most up to date versions of the packages below allowed the model to be run successfully on audio data despite any warnings that python may generate in the end."
      ]
    },
    {
      "cell_type": "code",
      "execution_count": 19,
      "metadata": {
        "id": "yOGGV2t-njfT"
      },
      "outputs": [],
      "source": [
        "from datetime import timedelta\n",
        "import librosa\n",
        "import numpy as np\n",
        "import os\n",
        "import pandas as pd\n",
        "from scipy.signal import butter, filtfilt\n",
        "from scipy.special import expit\n",
        "import tensorflow as tf\n",
        "import time\n",
        "from tqdm import tqdm_notebook\n"
      ]
    },
    {
      "cell_type": "markdown",
      "metadata": {},
      "source": [
        "## Designate Recording Directory\n",
        "\n",
        "Enter the full file path of the folder where the recording files to be analyzed are stored.\n",
        "\n",
        "Result files will be populated in a subfolder named \"results\" in this same directory."
      ]
    },
    {
      "cell_type": "code",
      "execution_count": 2,
      "metadata": {
        "id": "f6_rvNfInw6d"
      },
      "outputs": [],
      "source": [
        "# Path to folder of recordings for analysis\n",
        "DIRECTORY = 'C:/Users/Kevin Kelly/Documents/Repos/Recognizers_OVEN-test/Recordings_OVEN' # change me!"
      ]
    },
    {
      "cell_type": "markdown",
      "metadata": {},
      "source": [
        "## Run the Model\n",
        "\n",
        "The following script will pull the Ovenbird detection model into python and run the audio files through it.  "
      ]
    },
    {
      "cell_type": "code",
      "execution_count": 20,
      "metadata": {
        "colab": {
          "base_uri": "https://localhost:8080/",
          "height": 327
        },
        "id": "Ww_pQ4Wpkw_4",
        "outputId": "7ef72e28-df11-4c6f-e144-f5b96acbb28d"
      },
      "outputs": [
        {
          "name": "stdout",
          "output_type": "stream",
          "text": [
            "WARNING:tensorflow:The saved meta_graph is possibly from an older release:\n",
            "'local_variables' collection should be of type 'byte_list', but instead is of type 'node_list'.\n",
            "WARNING:tensorflow:The saved meta_graph is possibly from an older release:\n",
            "'model_variables' collection should be of type 'byte_list', but instead is of type 'node_list'.\n",
            "INFO:tensorflow:Restoring parameters from c:\\Users\\Kevin Kelly\\Documents\\Repos\\Recognizers_OVEN-test\\oven-model-22022017\n"
          ]
        },
        {
          "name": "stderr",
          "output_type": "stream",
          "text": [
            "C:\\Users\\Kevin Kelly\\AppData\\Local\\Temp\\ipykernel_22472\\1789341417.py:43: TqdmDeprecationWarning: This function will be removed in tqdm==5.0.0\n",
            "Please use `tqdm.notebook.tqdm` instead of `tqdm.tqdm_notebook`\n",
            "  for filename in tqdm_notebook(audio_files):\n"
          ]
        },
        {
          "data": {
            "application/vnd.jupyter.widget-view+json": {
              "model_id": "a4ab0170f080423eaac7b165c4bb52f8",
              "version_major": 2,
              "version_minor": 0
            },
            "text/plain": [
              "  0%|          | 0/784 [00:00<?, ?it/s]"
            ]
          },
          "metadata": {},
          "output_type": "display_data"
        }
      ],
      "source": [
        "def highpass_filter(y, fc, sr):\n",
        "    nyq = 0.5 * sr\n",
        "    b, a = butter(4, fc/nyq, 'high')\n",
        "    return filtfilt(b, a, y)\n",
        "\n",
        "def normalise_audio(y, sr=16000):\n",
        "    y = highpass_filter(y=y, fc=500.0, sr=sr)\n",
        "    y -= np.mean(y)\n",
        "    return y\n",
        "\n",
        "def spectrogram_from_audio(y, sr):\n",
        "    sr = 16000\n",
        "    n_fft = 128\n",
        "    hop_length = 64\n",
        "    D = librosa.stft(y, n_fft=n_fft, hop_length=hop_length, window=np.blackman)[10:,:] # remove DC\n",
        "    D = librosa.amplitude_to_db(np.abs(D)**2, ref=1.0)\n",
        "    D = np.swapaxes(D,0,1)[np.newaxis,np.newaxis,:,:] # [batch,height,width,channels]\n",
        "    return D\n",
        "\n",
        "def process_directory(directory):\n",
        "    # make sure there is somewhere to save results\n",
        "    results_directory = os.path.join(directory, 'results')\n",
        "    if not os.path.exists(results_directory):\n",
        "        os.makedirs(results_directory)\n",
        "\n",
        "    # find tensorflow model files\n",
        "    meta_graph_path = os.path.join(os.path.dirname(os.path.abspath('__file__')), 'oven-model-22022017.meta')\n",
        "    checkpoint_path = os.path.join(os.path.dirname(os.path.abspath('__file__')), 'oven-model-22022017')\n",
        "\n",
        "    # list all audio files in directory\n",
        "    audio_files = librosa.util.find_files(directory, ext=['flac', 'wav'], recurse=True, case_sensitive=False, limit=None, offset=0)\n",
        "    audio_files = list(set(audio_files)) # remove duplicates - not sure why find_files produces them!\n",
        "\n",
        "    tf.compat.v1.reset_default_graph()\n",
        "    with tf.compat.v1.Session() as sess:\n",
        "        new_saver = tf.compat.v1.train.import_meta_graph(meta_graph_path)\n",
        "        new_saver.restore(sess, checkpoint_path)\n",
        "        features = tf.compat.v1.get_collection('input')[0]\n",
        "        is_training = tf.compat.v1.get_collection('is_training')[0]\n",
        "        level = tf.compat.v1.get_collection('level')[0]\n",
        "        detection_fn = tf.compat.v1.get_collection('detection_fn')[0]\n",
        "\n",
        "        for filename in tqdm_notebook(audio_files):\n",
        "            y, sr = librosa.load(filename, sr=16000, mono=True)\n",
        "            y = normalise_audio(y)\n",
        "            S = spectrogram_from_audio(y, sr)\n",
        "            level_dB, detection_function = sess.run([level, detection_fn], feed_dict={features: S, is_training: False})\n",
        "            level_dB = level_dB[0,0,:,0]\n",
        "            detection_function = detection_function[0,0,:,0]\n",
        "            detection_function = expit(detection_function)\n",
        "            duration_secs = y.size / float(sr)\n",
        "            times = np.interp(np.arange(detection_function.size), [0,detection_function.size-1], [0,duration_secs])\n",
        "            df = pd.DataFrame({'0': times, '1': detection_function, '2': level_dB})\n",
        "\n",
        "            base = os.path.basename(filename)\n",
        "            filename = os.path.splitext(base)[0]\n",
        "            savename = os.path.join(results_directory, filename + '_detection_function.csv')\n",
        "            df.to_csv(savename, header=False, index=False)\n",
        "\n",
        "process_directory(DIRECTORY)"
      ]
    }
  ],
  "metadata": {
    "colab": {
      "include_colab_link": true,
      "provenance": []
    },
    "kernelspec": {
      "display_name": "Python 3",
      "language": "python",
      "name": "python3"
    },
    "language_info": {
      "codemirror_mode": {
        "name": "ipython",
        "version": 3
      },
      "file_extension": ".py",
      "mimetype": "text/x-python",
      "name": "python",
      "nbconvert_exporter": "python",
      "pygments_lexer": "ipython3",
      "version": "3.11.7"
    }
  },
  "nbformat": 4,
  "nbformat_minor": 0
}
